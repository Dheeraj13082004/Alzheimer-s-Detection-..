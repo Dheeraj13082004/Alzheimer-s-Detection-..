{
  "metadata": {
    "kernelspec": {
      "language": "python",
      "display_name": "Python 3",
      "name": "python3"
    },
    "language_info": {
      "pygments_lexer": "ipython3",
      "nbconvert_exporter": "python",
      "version": "3.6.4",
      "file_extension": ".py",
      "codemirror_mode": {
        "name": "ipython",
        "version": 3
      },
      "name": "python",
      "mimetype": "text/x-python"
    },
    "colab": {
      "name": "Alzheimers Disease classification_EfficientNetB6",
      "provenance": [],
      "include_colab_link": true
    }
  },
  "nbformat_minor": 0,
  "nbformat": 4,
  "cells": [
    {
      "cell_type": "markdown",
      "metadata": {
        "id": "view-in-github",
        "colab_type": "text"
      },
      "source": [
        "<a href=\"https://colab.research.google.com/github/Dheeraj13082004/Alzheimer-s-Detection-../blob/main/Alzheimers_Disease_classification_EfficientNetB6.ipynb\" target=\"_parent\"><img src=\"https://colab.research.google.com/assets/colab-badge.svg\" alt=\"Open In Colab\"/></a>"
      ]
    },
    {
      "source": [
        "\n",
        "# IMPORTANT: RUN THIS CELL IN ORDER TO IMPORT YOUR KAGGLE DATA SOURCES\n",
        "# TO THE CORRECT LOCATION (/kaggle/input) IN YOUR NOTEBOOK,\n",
        "# THEN FEEL FREE TO DELETE THIS CELL.\n",
        "# NOTE: THIS NOTEBOOK ENVIRONMENT DIFFERS FROM KAGGLE'S PYTHON\n",
        "# ENVIRONMENT SO THERE MAY BE MISSING LIBRARIES USED BY YOUR\n",
        "# NOTEBOOK.\n",
        "\n",
        "import os\n",
        "import sys\n",
        "from tempfile import NamedTemporaryFile\n",
        "from urllib.request import urlopen\n",
        "from urllib.parse import unquote, urlparse\n",
        "from urllib.error import HTTPError\n",
        "from zipfile import ZipFile\n",
        "import tarfile\n",
        "import shutil\n",
        "\n",
        "CHUNK_SIZE = 40960\n",
        "DATA_SOURCE_MAPPING = 'alzheimersdisease5classdatasetadni:https%3A%2F%2Fstorage.googleapis.com%2Fkaggle-data-sets%2F1161732%2F1946782%2Fbundle%2Farchive.zip%3FX-Goog-Algorithm%3DGOOG4-RSA-SHA256%26X-Goog-Credential%3Dgcp-kaggle-com%2540kaggle-161607.iam.gserviceaccount.com%252F20240423%252Fauto%252Fstorage%252Fgoog4_request%26X-Goog-Date%3D20240423T184634Z%26X-Goog-Expires%3D259200%26X-Goog-SignedHeaders%3Dhost%26X-Goog-Signature%3D2541eef89cf5144148fab5bd19ea7267bfb6d34cb3602b07474052a3c867761e670469629d07558a78c8a8bac77993b9da6d23bb5d59c29a480c8c862efe64a8be062c3a8c7428e8a067b996fb43c40857847bf386fdc472dc4d7c9b717967726745361a416d9c04a446ae2552117130fb113d3ade60861cbff848df9d56313a7978b5fb9dce3bf767d2e0c8034711a70ed40d05dfc4c405904c4679c3c6d15e40a9359e5ee123ef29a92fced87925576b19bf95d65752de8350c2b49c3580ec85fa91d646fe84aef989e80cdfcf21b04d530a225494d7f97097b4c50e3b473b2e9fb852e72bd7fd956ff8c93a46b139e7bb7f6802eb8c68dca186bdc29466de'\n",
        "\n",
        "KAGGLE_INPUT_PATH='/kaggle/input'\n",
        "KAGGLE_WORKING_PATH='/kaggle/working'\n",
        "KAGGLE_SYMLINK='kaggle'\n",
        "\n",
        "!umount /kaggle/input/ 2> /dev/null\n",
        "shutil.rmtree('/kaggle/input', ignore_errors=True)\n",
        "os.makedirs(KAGGLE_INPUT_PATH, 0o777, exist_ok=True)\n",
        "os.makedirs(KAGGLE_WORKING_PATH, 0o777, exist_ok=True)\n",
        "\n",
        "try:\n",
        "  os.symlink(KAGGLE_INPUT_PATH, os.path.join(\"..\", 'input'), target_is_directory=True)\n",
        "except FileExistsError:\n",
        "  pass\n",
        "try:\n",
        "  os.symlink(KAGGLE_WORKING_PATH, os.path.join(\"..\", 'working'), target_is_directory=True)\n",
        "except FileExistsError:\n",
        "  pass\n",
        "\n",
        "for data_source_mapping in DATA_SOURCE_MAPPING.split(','):\n",
        "    directory, download_url_encoded = data_source_mapping.split(':')\n",
        "    download_url = unquote(download_url_encoded)\n",
        "    filename = urlparse(download_url).path\n",
        "    destination_path = os.path.join(KAGGLE_INPUT_PATH, directory)\n",
        "    try:\n",
        "        with urlopen(download_url) as fileres, NamedTemporaryFile() as tfile:\n",
        "            total_length = fileres.headers['content-length']\n",
        "            print(f'Downloading {directory}, {total_length} bytes compressed')\n",
        "            dl = 0\n",
        "            data = fileres.read(CHUNK_SIZE)\n",
        "            while len(data) > 0:\n",
        "                dl += len(data)\n",
        "                tfile.write(data)\n",
        "                done = int(50 * dl / int(total_length))\n",
        "                sys.stdout.write(f\"\\r[{'=' * done}{' ' * (50-done)}] {dl} bytes downloaded\")\n",
        "                sys.stdout.flush()\n",
        "                data = fileres.read(CHUNK_SIZE)\n",
        "            if filename.endswith('.zip'):\n",
        "              with ZipFile(tfile) as zfile:\n",
        "                zfile.extractall(destination_path)\n",
        "            else:\n",
        "              with tarfile.open(tfile.name) as tarfile:\n",
        "                tarfile.extractall(destination_path)\n",
        "            print(f'\\nDownloaded and uncompressed: {directory}')\n",
        "    except HTTPError as e:\n",
        "        print(f'Failed to load (likely expired) {download_url} to path {destination_path}')\n",
        "        continue\n",
        "    except OSError as e:\n",
        "        print(f'Failed to load {download_url} to path {destination_path}')\n",
        "        continue\n",
        "\n",
        "print('Data source import complete.')\n"
      ],
      "metadata": {
        "id": "O_3SxhPASADh",
        "outputId": "d9a80fdd-3d7c-40a2-f6dc-7b47c5687103",
        "colab": {
          "base_uri": "https://localhost:8080/"
        }
      },
      "cell_type": "code",
      "outputs": [
        {
          "output_type": "stream",
          "name": "stdout",
          "text": [
            "Downloading alzheimersdisease5classdatasetadni, 17718755 bytes compressed\n",
            "[==================================================] 17718755 bytes downloaded\n",
            "Downloaded and uncompressed: alzheimersdisease5classdatasetadni\n",
            "Data source import complete.\n"
          ]
        }
      ],
      "execution_count": 1
    },
    {
      "cell_type": "code",
      "source": [
        "import tensorflow as tf\n",
        "import pandas as pd\n",
        "\n",
        "from tensorflow.keras.callbacks  import TensorBoard\n",
        "from tensorflow.keras.callbacks import ModelCheckpoint,ReduceLROnPlateau\n",
        "import os\n",
        "from tqdm import tqdm\n",
        "import cv2\n",
        "import numpy as np\n",
        "from sklearn.model_selection import train_test_split\n",
        "from sklearn.utils import shuffle\n",
        "from keras.utils.np_utils import to_categorical\n",
        "import seaborn as sns\n",
        "from sklearn.metrics import classification_report,confusion_matrix\n",
        "import matplotlib.pyplot as plt\n",
        "from PIL import Image\n",
        "\n",
        "import ipywidgets as widgets\n",
        "import io\n",
        "from IPython.display import clear_output,display\n"
      ],
      "metadata": {
        "_uuid": "8f2839f25d086af736a60e9eeb907d3b93b6e0e5",
        "_cell_guid": "b1076dfc-b9ad-4769-8c92-a6c4dae69d19",
        "execution": {
          "iopub.status.busy": "2023-02-19T15:01:33.463111Z",
          "iopub.execute_input": "2023-02-19T15:01:33.463708Z",
          "iopub.status.idle": "2023-02-19T15:01:40.716175Z",
          "shell.execute_reply.started": "2023-02-19T15:01:33.463613Z",
          "shell.execute_reply": "2023-02-19T15:01:40.715196Z"
        },
        "trusted": true,
        "id": "8wdVmF2USADk"
      },
      "execution_count": 3,
      "outputs": []
    },
    {
      "cell_type": "markdown",
      "source": [
        "# Read Data"
      ],
      "metadata": {
        "id": "H1dbQBx5SADk"
      }
    },
    {
      "cell_type": "code",
      "source": [
        "image_path=\"../input/alzheimersdisease5classdatasetadni/Alzheimers-ADNI/train/\""
      ],
      "metadata": {
        "execution": {
          "iopub.status.busy": "2023-02-19T15:01:40.718231Z",
          "iopub.execute_input": "2023-02-19T15:01:40.718932Z",
          "iopub.status.idle": "2023-02-19T15:01:40.727377Z",
          "shell.execute_reply.started": "2023-02-19T15:01:40.718894Z",
          "shell.execute_reply": "2023-02-19T15:01:40.726389Z"
        },
        "trusted": true,
        "id": "uNVsze10SADl"
      },
      "execution_count": 4,
      "outputs": []
    },
    {
      "cell_type": "code",
      "source": [
        "cls_name=os.listdir(image_path)\n",
        "print(cls_name)"
      ],
      "metadata": {
        "execution": {
          "iopub.status.busy": "2023-02-19T15:01:40.731254Z",
          "iopub.execute_input": "2023-02-19T15:01:40.732035Z",
          "iopub.status.idle": "2023-02-19T15:01:40.770267Z",
          "shell.execute_reply.started": "2023-02-19T15:01:40.731989Z",
          "shell.execute_reply": "2023-02-19T15:01:40.769426Z"
        },
        "trusted": true,
        "id": "VLc6p_CdSADm",
        "outputId": "095b4f60-5e39-4fbb-fb62-cedb55f05b48",
        "colab": {
          "base_uri": "https://localhost:8080/"
        }
      },
      "execution_count": 5,
      "outputs": [
        {
          "output_type": "stream",
          "name": "stdout",
          "text": [
            "['Final AD JPEG', 'Final CN JPEG', 'Final LMCI JPEG', 'Final MCI JPEG', 'Final EMCI JPEG']\n"
          ]
        }
      ]
    },
    {
      "cell_type": "code",
      "source": [
        "print(\"Number of classes : {}\".format(len(cls_name)))"
      ],
      "metadata": {
        "execution": {
          "iopub.status.busy": "2023-02-19T15:01:40.772114Z",
          "iopub.execute_input": "2023-02-19T15:01:40.772551Z",
          "iopub.status.idle": "2023-02-19T15:01:40.778386Z",
          "shell.execute_reply.started": "2023-02-19T15:01:40.772516Z",
          "shell.execute_reply": "2023-02-19T15:01:40.777421Z"
        },
        "trusted": true,
        "id": "iXhBZ98vSADn",
        "outputId": "f9e03d52-3b0b-4b75-fd64-ab0fa13015a1",
        "colab": {
          "base_uri": "https://localhost:8080/"
        }
      },
      "execution_count": 6,
      "outputs": [
        {
          "output_type": "stream",
          "name": "stdout",
          "text": [
            "Number of classes : 5\n"
          ]
        }
      ]
    },
    {
      "cell_type": "code",
      "source": [
        "number_of_images={}\n",
        "for class_name in cls_name:\n",
        "    number_of_images[class_name]=len(os.listdir(image_path+\"/\"+class_name))\n",
        "images_each_class=pd.DataFrame(number_of_images.values(),index=number_of_images.keys(),columns=[\"Number of images\"])\n",
        "images_each_class"
      ],
      "metadata": {
        "execution": {
          "iopub.status.busy": "2023-02-19T15:01:40.779913Z",
          "iopub.execute_input": "2023-02-19T15:01:40.78057Z",
          "iopub.status.idle": "2023-02-19T15:01:41.067539Z",
          "shell.execute_reply.started": "2023-02-19T15:01:40.780534Z",
          "shell.execute_reply": "2023-02-19T15:01:41.066567Z"
        },
        "trusted": true,
        "id": "KvYTS2IiSADn",
        "outputId": "259a3d74-684b-4205-a21b-e344e41a4f18",
        "colab": {
          "base_uri": "https://localhost:8080/",
          "height": 206
        }
      },
      "execution_count": 7,
      "outputs": [
        {
          "output_type": "execute_result",
          "data": {
            "text/plain": [
              "                 Number of images\n",
              "Final AD JPEG                 145\n",
              "Final CN JPEG                 493\n",
              "Final LMCI JPEG                61\n",
              "Final MCI JPEG                198\n",
              "Final EMCI JPEG               204"
            ],
            "text/html": [
              "\n",
              "  <div id=\"df-2ce1d314-95f3-4ffe-a92a-4365d9fd0350\" class=\"colab-df-container\">\n",
              "    <div>\n",
              "<style scoped>\n",
              "    .dataframe tbody tr th:only-of-type {\n",
              "        vertical-align: middle;\n",
              "    }\n",
              "\n",
              "    .dataframe tbody tr th {\n",
              "        vertical-align: top;\n",
              "    }\n",
              "\n",
              "    .dataframe thead th {\n",
              "        text-align: right;\n",
              "    }\n",
              "</style>\n",
              "<table border=\"1\" class=\"dataframe\">\n",
              "  <thead>\n",
              "    <tr style=\"text-align: right;\">\n",
              "      <th></th>\n",
              "      <th>Number of images</th>\n",
              "    </tr>\n",
              "  </thead>\n",
              "  <tbody>\n",
              "    <tr>\n",
              "      <th>Final AD JPEG</th>\n",
              "      <td>145</td>\n",
              "    </tr>\n",
              "    <tr>\n",
              "      <th>Final CN JPEG</th>\n",
              "      <td>493</td>\n",
              "    </tr>\n",
              "    <tr>\n",
              "      <th>Final LMCI JPEG</th>\n",
              "      <td>61</td>\n",
              "    </tr>\n",
              "    <tr>\n",
              "      <th>Final MCI JPEG</th>\n",
              "      <td>198</td>\n",
              "    </tr>\n",
              "    <tr>\n",
              "      <th>Final EMCI JPEG</th>\n",
              "      <td>204</td>\n",
              "    </tr>\n",
              "  </tbody>\n",
              "</table>\n",
              "</div>\n",
              "    <div class=\"colab-df-buttons\">\n",
              "\n",
              "  <div class=\"colab-df-container\">\n",
              "    <button class=\"colab-df-convert\" onclick=\"convertToInteractive('df-2ce1d314-95f3-4ffe-a92a-4365d9fd0350')\"\n",
              "            title=\"Convert this dataframe to an interactive table.\"\n",
              "            style=\"display:none;\">\n",
              "\n",
              "  <svg xmlns=\"http://www.w3.org/2000/svg\" height=\"24px\" viewBox=\"0 -960 960 960\">\n",
              "    <path d=\"M120-120v-720h720v720H120Zm60-500h600v-160H180v160Zm220 220h160v-160H400v160Zm0 220h160v-160H400v160ZM180-400h160v-160H180v160Zm440 0h160v-160H620v160ZM180-180h160v-160H180v160Zm440 0h160v-160H620v160Z\"/>\n",
              "  </svg>\n",
              "    </button>\n",
              "\n",
              "  <style>\n",
              "    .colab-df-container {\n",
              "      display:flex;\n",
              "      gap: 12px;\n",
              "    }\n",
              "\n",
              "    .colab-df-convert {\n",
              "      background-color: #E8F0FE;\n",
              "      border: none;\n",
              "      border-radius: 50%;\n",
              "      cursor: pointer;\n",
              "      display: none;\n",
              "      fill: #1967D2;\n",
              "      height: 32px;\n",
              "      padding: 0 0 0 0;\n",
              "      width: 32px;\n",
              "    }\n",
              "\n",
              "    .colab-df-convert:hover {\n",
              "      background-color: #E2EBFA;\n",
              "      box-shadow: 0px 1px 2px rgba(60, 64, 67, 0.3), 0px 1px 3px 1px rgba(60, 64, 67, 0.15);\n",
              "      fill: #174EA6;\n",
              "    }\n",
              "\n",
              "    .colab-df-buttons div {\n",
              "      margin-bottom: 4px;\n",
              "    }\n",
              "\n",
              "    [theme=dark] .colab-df-convert {\n",
              "      background-color: #3B4455;\n",
              "      fill: #D2E3FC;\n",
              "    }\n",
              "\n",
              "    [theme=dark] .colab-df-convert:hover {\n",
              "      background-color: #434B5C;\n",
              "      box-shadow: 0px 1px 3px 1px rgba(0, 0, 0, 0.15);\n",
              "      filter: drop-shadow(0px 1px 2px rgba(0, 0, 0, 0.3));\n",
              "      fill: #FFFFFF;\n",
              "    }\n",
              "  </style>\n",
              "\n",
              "    <script>\n",
              "      const buttonEl =\n",
              "        document.querySelector('#df-2ce1d314-95f3-4ffe-a92a-4365d9fd0350 button.colab-df-convert');\n",
              "      buttonEl.style.display =\n",
              "        google.colab.kernel.accessAllowed ? 'block' : 'none';\n",
              "\n",
              "      async function convertToInteractive(key) {\n",
              "        const element = document.querySelector('#df-2ce1d314-95f3-4ffe-a92a-4365d9fd0350');\n",
              "        const dataTable =\n",
              "          await google.colab.kernel.invokeFunction('convertToInteractive',\n",
              "                                                    [key], {});\n",
              "        if (!dataTable) return;\n",
              "\n",
              "        const docLinkHtml = 'Like what you see? Visit the ' +\n",
              "          '<a target=\"_blank\" href=https://colab.research.google.com/notebooks/data_table.ipynb>data table notebook</a>'\n",
              "          + ' to learn more about interactive tables.';\n",
              "        element.innerHTML = '';\n",
              "        dataTable['output_type'] = 'display_data';\n",
              "        await google.colab.output.renderOutput(dataTable, element);\n",
              "        const docLink = document.createElement('div');\n",
              "        docLink.innerHTML = docLinkHtml;\n",
              "        element.appendChild(docLink);\n",
              "      }\n",
              "    </script>\n",
              "  </div>\n",
              "\n",
              "\n",
              "<div id=\"df-c2c37eb3-85e4-4081-83b0-ff6e9fdfa122\">\n",
              "  <button class=\"colab-df-quickchart\" onclick=\"quickchart('df-c2c37eb3-85e4-4081-83b0-ff6e9fdfa122')\"\n",
              "            title=\"Suggest charts\"\n",
              "            style=\"display:none;\">\n",
              "\n",
              "<svg xmlns=\"http://www.w3.org/2000/svg\" height=\"24px\"viewBox=\"0 0 24 24\"\n",
              "     width=\"24px\">\n",
              "    <g>\n",
              "        <path d=\"M19 3H5c-1.1 0-2 .9-2 2v14c0 1.1.9 2 2 2h14c1.1 0 2-.9 2-2V5c0-1.1-.9-2-2-2zM9 17H7v-7h2v7zm4 0h-2V7h2v10zm4 0h-2v-4h2v4z\"/>\n",
              "    </g>\n",
              "</svg>\n",
              "  </button>\n",
              "\n",
              "<style>\n",
              "  .colab-df-quickchart {\n",
              "      --bg-color: #E8F0FE;\n",
              "      --fill-color: #1967D2;\n",
              "      --hover-bg-color: #E2EBFA;\n",
              "      --hover-fill-color: #174EA6;\n",
              "      --disabled-fill-color: #AAA;\n",
              "      --disabled-bg-color: #DDD;\n",
              "  }\n",
              "\n",
              "  [theme=dark] .colab-df-quickchart {\n",
              "      --bg-color: #3B4455;\n",
              "      --fill-color: #D2E3FC;\n",
              "      --hover-bg-color: #434B5C;\n",
              "      --hover-fill-color: #FFFFFF;\n",
              "      --disabled-bg-color: #3B4455;\n",
              "      --disabled-fill-color: #666;\n",
              "  }\n",
              "\n",
              "  .colab-df-quickchart {\n",
              "    background-color: var(--bg-color);\n",
              "    border: none;\n",
              "    border-radius: 50%;\n",
              "    cursor: pointer;\n",
              "    display: none;\n",
              "    fill: var(--fill-color);\n",
              "    height: 32px;\n",
              "    padding: 0;\n",
              "    width: 32px;\n",
              "  }\n",
              "\n",
              "  .colab-df-quickchart:hover {\n",
              "    background-color: var(--hover-bg-color);\n",
              "    box-shadow: 0 1px 2px rgba(60, 64, 67, 0.3), 0 1px 3px 1px rgba(60, 64, 67, 0.15);\n",
              "    fill: var(--button-hover-fill-color);\n",
              "  }\n",
              "\n",
              "  .colab-df-quickchart-complete:disabled,\n",
              "  .colab-df-quickchart-complete:disabled:hover {\n",
              "    background-color: var(--disabled-bg-color);\n",
              "    fill: var(--disabled-fill-color);\n",
              "    box-shadow: none;\n",
              "  }\n",
              "\n",
              "  .colab-df-spinner {\n",
              "    border: 2px solid var(--fill-color);\n",
              "    border-color: transparent;\n",
              "    border-bottom-color: var(--fill-color);\n",
              "    animation:\n",
              "      spin 1s steps(1) infinite;\n",
              "  }\n",
              "\n",
              "  @keyframes spin {\n",
              "    0% {\n",
              "      border-color: transparent;\n",
              "      border-bottom-color: var(--fill-color);\n",
              "      border-left-color: var(--fill-color);\n",
              "    }\n",
              "    20% {\n",
              "      border-color: transparent;\n",
              "      border-left-color: var(--fill-color);\n",
              "      border-top-color: var(--fill-color);\n",
              "    }\n",
              "    30% {\n",
              "      border-color: transparent;\n",
              "      border-left-color: var(--fill-color);\n",
              "      border-top-color: var(--fill-color);\n",
              "      border-right-color: var(--fill-color);\n",
              "    }\n",
              "    40% {\n",
              "      border-color: transparent;\n",
              "      border-right-color: var(--fill-color);\n",
              "      border-top-color: var(--fill-color);\n",
              "    }\n",
              "    60% {\n",
              "      border-color: transparent;\n",
              "      border-right-color: var(--fill-color);\n",
              "    }\n",
              "    80% {\n",
              "      border-color: transparent;\n",
              "      border-right-color: var(--fill-color);\n",
              "      border-bottom-color: var(--fill-color);\n",
              "    }\n",
              "    90% {\n",
              "      border-color: transparent;\n",
              "      border-bottom-color: var(--fill-color);\n",
              "    }\n",
              "  }\n",
              "</style>\n",
              "\n",
              "  <script>\n",
              "    async function quickchart(key) {\n",
              "      const quickchartButtonEl =\n",
              "        document.querySelector('#' + key + ' button');\n",
              "      quickchartButtonEl.disabled = true;  // To prevent multiple clicks.\n",
              "      quickchartButtonEl.classList.add('colab-df-spinner');\n",
              "      try {\n",
              "        const charts = await google.colab.kernel.invokeFunction(\n",
              "            'suggestCharts', [key], {});\n",
              "      } catch (error) {\n",
              "        console.error('Error during call to suggestCharts:', error);\n",
              "      }\n",
              "      quickchartButtonEl.classList.remove('colab-df-spinner');\n",
              "      quickchartButtonEl.classList.add('colab-df-quickchart-complete');\n",
              "    }\n",
              "    (() => {\n",
              "      let quickchartButtonEl =\n",
              "        document.querySelector('#df-c2c37eb3-85e4-4081-83b0-ff6e9fdfa122 button');\n",
              "      quickchartButtonEl.style.display =\n",
              "        google.colab.kernel.accessAllowed ? 'block' : 'none';\n",
              "    })();\n",
              "  </script>\n",
              "</div>\n",
              "\n",
              "  <div id=\"id_627fd871-2ac5-4e20-9302-a6f46b8203ed\">\n",
              "    <style>\n",
              "      .colab-df-generate {\n",
              "        background-color: #E8F0FE;\n",
              "        border: none;\n",
              "        border-radius: 50%;\n",
              "        cursor: pointer;\n",
              "        display: none;\n",
              "        fill: #1967D2;\n",
              "        height: 32px;\n",
              "        padding: 0 0 0 0;\n",
              "        width: 32px;\n",
              "      }\n",
              "\n",
              "      .colab-df-generate:hover {\n",
              "        background-color: #E2EBFA;\n",
              "        box-shadow: 0px 1px 2px rgba(60, 64, 67, 0.3), 0px 1px 3px 1px rgba(60, 64, 67, 0.15);\n",
              "        fill: #174EA6;\n",
              "      }\n",
              "\n",
              "      [theme=dark] .colab-df-generate {\n",
              "        background-color: #3B4455;\n",
              "        fill: #D2E3FC;\n",
              "      }\n",
              "\n",
              "      [theme=dark] .colab-df-generate:hover {\n",
              "        background-color: #434B5C;\n",
              "        box-shadow: 0px 1px 3px 1px rgba(0, 0, 0, 0.15);\n",
              "        filter: drop-shadow(0px 1px 2px rgba(0, 0, 0, 0.3));\n",
              "        fill: #FFFFFF;\n",
              "      }\n",
              "    </style>\n",
              "    <button class=\"colab-df-generate\" onclick=\"generateWithVariable('images_each_class')\"\n",
              "            title=\"Generate code using this dataframe.\"\n",
              "            style=\"display:none;\">\n",
              "\n",
              "  <svg xmlns=\"http://www.w3.org/2000/svg\" height=\"24px\"viewBox=\"0 0 24 24\"\n",
              "       width=\"24px\">\n",
              "    <path d=\"M7,19H8.4L18.45,9,17,7.55,7,17.6ZM5,21V16.75L18.45,3.32a2,2,0,0,1,2.83,0l1.4,1.43a1.91,1.91,0,0,1,.58,1.4,1.91,1.91,0,0,1-.58,1.4L9.25,21ZM18.45,9,17,7.55Zm-12,3A5.31,5.31,0,0,0,4.9,8.1,5.31,5.31,0,0,0,1,6.5,5.31,5.31,0,0,0,4.9,4.9,5.31,5.31,0,0,0,6.5,1,5.31,5.31,0,0,0,8.1,4.9,5.31,5.31,0,0,0,12,6.5,5.46,5.46,0,0,0,6.5,12Z\"/>\n",
              "  </svg>\n",
              "    </button>\n",
              "    <script>\n",
              "      (() => {\n",
              "      const buttonEl =\n",
              "        document.querySelector('#id_627fd871-2ac5-4e20-9302-a6f46b8203ed button.colab-df-generate');\n",
              "      buttonEl.style.display =\n",
              "        google.colab.kernel.accessAllowed ? 'block' : 'none';\n",
              "\n",
              "      buttonEl.onclick = () => {\n",
              "        google.colab.notebook.generateWithVariable('images_each_class');\n",
              "      }\n",
              "      })();\n",
              "    </script>\n",
              "  </div>\n",
              "\n",
              "    </div>\n",
              "  </div>\n"
            ],
            "application/vnd.google.colaboratory.intrinsic+json": {
              "type": "dataframe",
              "variable_name": "images_each_class",
              "summary": "{\n  \"name\": \"images_each_class\",\n  \"rows\": 5,\n  \"fields\": [\n    {\n      \"column\": \"Number of images\",\n      \"properties\": {\n        \"dtype\": \"number\",\n        \"std\": 162,\n        \"min\": 61,\n        \"max\": 493,\n        \"num_unique_values\": 5,\n        \"samples\": [\n          493,\n          204,\n          61\n        ],\n        \"semantic_type\": \"\",\n        \"description\": \"\"\n      }\n    }\n  ]\n}"
            }
          },
          "metadata": {},
          "execution_count": 7
        }
      ]
    },
    {
      "cell_type": "code",
      "source": [
        "label_name=[\"Final AD JPEG\",\"Final CN JPEG\",\"Final EMCI JPEG\",\"Final LMCI JPEG\",\"Final MCI JPEG\"]"
      ],
      "metadata": {
        "execution": {
          "iopub.status.busy": "2023-02-19T15:01:41.069043Z",
          "iopub.execute_input": "2023-02-19T15:01:41.0694Z",
          "iopub.status.idle": "2023-02-19T15:01:41.074555Z",
          "shell.execute_reply.started": "2023-02-19T15:01:41.069364Z",
          "shell.execute_reply": "2023-02-19T15:01:41.073431Z"
        },
        "trusted": true,
        "id": "IfEy2WkSSADo"
      },
      "execution_count": null,
      "outputs": []
    },
    {
      "cell_type": "markdown",
      "source": [
        "# train data and test data preprocessing"
      ],
      "metadata": {
        "id": "Gm_JjbyKSADo"
      }
    },
    {
      "cell_type": "code",
      "source": [
        "print(\"presprocess train data\\n\")\n",
        "\n",
        "image_data=[]\n",
        "label_data=[]\n",
        "image_size=150\n",
        "\n",
        "for i in label_name:\n",
        "    data_path=os.path.join(\"../input/alzheimersdisease5classdatasetadni/Alzheimers-ADNI/\",\"train\",i)\n",
        "    for m in tqdm(os.listdir(data_path)):\n",
        "        image=cv2.imread(os.path.join(data_path,m))\n",
        "        image=cv2.resize(image,(image_size,image_size))\n",
        "\n",
        "        image_data.append(image)\n",
        "        label_data.append(i)\n",
        "\n",
        "\n",
        "\n",
        "\n",
        "\n",
        "for i in label_name:\n",
        "    data_path=os.path.join(\"../input/alzheimersdisease5classdatasetadni/Alzheimers-ADNI/\",\"test\",i)\n",
        "    for m in tqdm(os.listdir(data_path)):\n",
        "        image=cv2.imread(os.path.join(data_path,m))\n",
        "        image=cv2.resize(image,(image_size,image_size))\n",
        "\n",
        "        image_data.append(image)\n",
        "        label_data.append(i)\n",
        "\n",
        "image_data=np.array(image_data)\n",
        "label_data=np.array(label_data)"
      ],
      "metadata": {
        "execution": {
          "iopub.status.busy": "2023-02-19T15:01:41.076369Z",
          "iopub.execute_input": "2023-02-19T15:01:41.076714Z",
          "iopub.status.idle": "2023-02-19T15:01:48.128459Z",
          "shell.execute_reply.started": "2023-02-19T15:01:41.07668Z",
          "shell.execute_reply": "2023-02-19T15:01:48.126485Z"
        },
        "trusted": true,
        "id": "Bg4f5BLdSADo",
        "outputId": "79f0cc3e-b30b-499e-d946-7e6a336c7d83",
        "colab": {
          "base_uri": "https://localhost:8080/",
          "height": 245
        }
      },
      "execution_count": 8,
      "outputs": [
        {
          "output_type": "stream",
          "name": "stdout",
          "text": [
            "presprocess train data\n",
            "\n"
          ]
        },
        {
          "output_type": "error",
          "ename": "NameError",
          "evalue": "name 'label_name' is not defined",
          "traceback": [
            "\u001b[0;31m---------------------------------------------------------------------------\u001b[0m",
            "\u001b[0;31mNameError\u001b[0m                                 Traceback (most recent call last)",
            "\u001b[0;32m<ipython-input-8-0b0198157fd9>\u001b[0m in \u001b[0;36m<cell line: 7>\u001b[0;34m()\u001b[0m\n\u001b[1;32m      5\u001b[0m \u001b[0mimage_size\u001b[0m\u001b[0;34m=\u001b[0m\u001b[0;36m150\u001b[0m\u001b[0;34m\u001b[0m\u001b[0;34m\u001b[0m\u001b[0m\n\u001b[1;32m      6\u001b[0m \u001b[0;34m\u001b[0m\u001b[0m\n\u001b[0;32m----> 7\u001b[0;31m \u001b[0;32mfor\u001b[0m \u001b[0mi\u001b[0m \u001b[0;32min\u001b[0m \u001b[0mlabel_name\u001b[0m\u001b[0;34m:\u001b[0m\u001b[0;34m\u001b[0m\u001b[0;34m\u001b[0m\u001b[0m\n\u001b[0m\u001b[1;32m      8\u001b[0m     \u001b[0mdata_path\u001b[0m\u001b[0;34m=\u001b[0m\u001b[0mos\u001b[0m\u001b[0;34m.\u001b[0m\u001b[0mpath\u001b[0m\u001b[0;34m.\u001b[0m\u001b[0mjoin\u001b[0m\u001b[0;34m(\u001b[0m\u001b[0;34m\"../input/alzheimersdisease5classdatasetadni/Alzheimers-ADNI/\"\u001b[0m\u001b[0;34m,\u001b[0m\u001b[0;34m\"train\"\u001b[0m\u001b[0;34m,\u001b[0m\u001b[0mi\u001b[0m\u001b[0;34m)\u001b[0m\u001b[0;34m\u001b[0m\u001b[0;34m\u001b[0m\u001b[0m\n\u001b[1;32m      9\u001b[0m     \u001b[0;32mfor\u001b[0m \u001b[0mm\u001b[0m \u001b[0;32min\u001b[0m \u001b[0mtqdm\u001b[0m\u001b[0;34m(\u001b[0m\u001b[0mos\u001b[0m\u001b[0;34m.\u001b[0m\u001b[0mlistdir\u001b[0m\u001b[0;34m(\u001b[0m\u001b[0mdata_path\u001b[0m\u001b[0;34m)\u001b[0m\u001b[0;34m)\u001b[0m\u001b[0;34m:\u001b[0m\u001b[0;34m\u001b[0m\u001b[0;34m\u001b[0m\u001b[0m\n",
            "\u001b[0;31mNameError\u001b[0m: name 'label_name' is not defined"
          ]
        }
      ]
    },
    {
      "cell_type": "code",
      "source": [
        "image_data.shape"
      ],
      "metadata": {
        "execution": {
          "iopub.status.busy": "2023-02-19T15:01:48.130851Z",
          "iopub.execute_input": "2023-02-19T15:01:48.13147Z",
          "iopub.status.idle": "2023-02-19T15:01:48.138467Z",
          "shell.execute_reply.started": "2023-02-19T15:01:48.13143Z",
          "shell.execute_reply": "2023-02-19T15:01:48.137264Z"
        },
        "trusted": true,
        "id": "nygYwqdWSADp"
      },
      "execution_count": null,
      "outputs": []
    },
    {
      "cell_type": "code",
      "source": [
        "image_data,label_data=shuffle(image_data,label_data,random_state=42)"
      ],
      "metadata": {
        "execution": {
          "iopub.status.busy": "2023-02-19T15:01:48.140223Z",
          "iopub.execute_input": "2023-02-19T15:01:48.140611Z",
          "iopub.status.idle": "2023-02-19T15:01:48.176933Z",
          "shell.execute_reply.started": "2023-02-19T15:01:48.140576Z",
          "shell.execute_reply": "2023-02-19T15:01:48.175946Z"
        },
        "trusted": true,
        "id": "Z-Prh2sTSADp"
      },
      "execution_count": null,
      "outputs": []
    },
    {
      "cell_type": "markdown",
      "source": [
        "# Split Data And Label"
      ],
      "metadata": {
        "id": "-5XO6tooSADp"
      }
    },
    {
      "cell_type": "code",
      "source": [
        "X_train,X_test,Y_train,Y_test=train_test_split(image_data,label_data,test_size=0.2,random_state=42)"
      ],
      "metadata": {
        "execution": {
          "iopub.status.busy": "2023-02-19T15:01:48.181044Z",
          "iopub.execute_input": "2023-02-19T15:01:48.181335Z",
          "iopub.status.idle": "2023-02-19T15:01:48.214408Z",
          "shell.execute_reply.started": "2023-02-19T15:01:48.181308Z",
          "shell.execute_reply": "2023-02-19T15:01:48.213416Z"
        },
        "trusted": true,
        "id": "hEUrHRgTSADp"
      },
      "execution_count": null,
      "outputs": []
    },
    {
      "cell_type": "markdown",
      "source": [
        "# apply onehot encoding"
      ],
      "metadata": {
        "id": "3LQMo6TMSADp"
      }
    },
    {
      "cell_type": "code",
      "source": [
        "train_label_data_new=[]\n",
        "test_label_data_new=[]\n",
        "for n in Y_train:\n",
        "    train_label_data_new.append(label_name.index(n))\n",
        "Y_train=train_label_data_new\n",
        "Y_train=to_categorical(Y_train)\n",
        "\n",
        "for n in Y_test:\n",
        "    test_label_data_new.append(label_name.index(n))\n",
        "Y_test=test_label_data_new\n",
        "Y_test=to_categorical(Y_test)\n",
        "\n",
        "\n",
        "\n"
      ],
      "metadata": {
        "execution": {
          "iopub.status.busy": "2023-02-19T15:01:48.215993Z",
          "iopub.execute_input": "2023-02-19T15:01:48.216357Z",
          "iopub.status.idle": "2023-02-19T15:01:48.222895Z",
          "shell.execute_reply.started": "2023-02-19T15:01:48.216322Z",
          "shell.execute_reply": "2023-02-19T15:01:48.221935Z"
        },
        "trusted": true,
        "id": "hGD50QgGSADq"
      },
      "execution_count": null,
      "outputs": []
    },
    {
      "cell_type": "code",
      "source": [
        "Y_train"
      ],
      "metadata": {
        "execution": {
          "iopub.status.busy": "2023-02-19T15:01:48.224572Z",
          "iopub.execute_input": "2023-02-19T15:01:48.225211Z",
          "iopub.status.idle": "2023-02-19T15:01:48.239083Z",
          "shell.execute_reply.started": "2023-02-19T15:01:48.225176Z",
          "shell.execute_reply": "2023-02-19T15:01:48.238094Z"
        },
        "trusted": true,
        "id": "bbDAxHvySADq"
      },
      "execution_count": null,
      "outputs": []
    },
    {
      "cell_type": "markdown",
      "source": [
        "# Create Model"
      ],
      "metadata": {
        "id": "4OLfRIajSADq"
      }
    },
    {
      "cell_type": "code",
      "source": [
        "efficientNetB6=tf.keras.applications.efficientnet.EfficientNetB6(weights=\"imagenet\",include_top=False,input_shape=(150,150,3))\n",
        "model=efficientNetB6.output\n",
        "model=tf.keras.layers.GlobalAveragePooling2D()(model)\n",
        "model=tf.keras.layers.Dropout(0.5)(model)\n",
        "model=tf.keras.layers.Dense(5,activation=\"softmax\")(model)\n",
        "model=tf.keras.models.Model(inputs=efficientNetB6.input,outputs=model)\n",
        "model.compile(loss=\"categorical_crossentropy\",optimizer=\"adam\",metrics=[\"accuracy\"])\n",
        "model.summary()\n",
        ""
      ],
      "metadata": {
        "execution": {
          "iopub.status.busy": "2023-02-19T15:01:48.240317Z",
          "iopub.execute_input": "2023-02-19T15:01:48.240889Z",
          "iopub.status.idle": "2023-02-19T15:01:56.543289Z",
          "shell.execute_reply.started": "2023-02-19T15:01:48.240851Z",
          "shell.execute_reply": "2023-02-19T15:01:56.542196Z"
        },
        "trusted": true,
        "id": "bHaclx7WSADq"
      },
      "execution_count": null,
      "outputs": []
    },
    {
      "cell_type": "code",
      "source": [
        "tensorboard = TensorBoard(log_dir=\"logs\")\n",
        "checkpoint = ModelCheckpoint(\"efficient_B6.h5\",\n",
        "                            monitor='val_accuracy',\n",
        "                            mode = \"auto\",\n",
        "                            verbose = 1,\n",
        "                            save_best_only =True)"
      ],
      "metadata": {
        "execution": {
          "iopub.status.busy": "2023-02-19T15:01:56.544407Z",
          "iopub.execute_input": "2023-02-19T15:01:56.544776Z",
          "iopub.status.idle": "2023-02-19T15:01:56.854241Z",
          "shell.execute_reply.started": "2023-02-19T15:01:56.544725Z",
          "shell.execute_reply": "2023-02-19T15:01:56.853225Z"
        },
        "trusted": true,
        "id": "dLDrCoaYSADq"
      },
      "execution_count": null,
      "outputs": []
    },
    {
      "cell_type": "code",
      "source": [
        "reduce_LR = ReduceLROnPlateau(monitor=\"val_accuracy\",\n",
        "                             factor = 0.3,\n",
        "                             patience = 2,\n",
        "                             min_delta=0.001,\n",
        "                             mode = \"auto\",\n",
        "                            verbose = 1)"
      ],
      "metadata": {
        "execution": {
          "iopub.status.busy": "2023-02-19T15:01:56.855707Z",
          "iopub.execute_input": "2023-02-19T15:01:56.856192Z",
          "iopub.status.idle": "2023-02-19T15:01:56.861706Z",
          "shell.execute_reply.started": "2023-02-19T15:01:56.856146Z",
          "shell.execute_reply": "2023-02-19T15:01:56.860596Z"
        },
        "trusted": true,
        "id": "aSghxlGjSADq"
      },
      "execution_count": null,
      "outputs": []
    },
    {
      "cell_type": "code",
      "source": [
        "history = model.fit(X_train, Y_train,\n",
        "                  validation_data =(X_test,Y_test),\n",
        "                  epochs =80,\n",
        "                  verbose =1,\n",
        "                  batch_size = 10,\n",
        "                  callbacks = [tensorboard, checkpoint, reduce_LR])"
      ],
      "metadata": {
        "execution": {
          "iopub.status.busy": "2023-02-19T15:01:56.863293Z",
          "iopub.execute_input": "2023-02-19T15:01:56.86389Z",
          "iopub.status.idle": "2023-02-19T15:32:42.661242Z",
          "shell.execute_reply.started": "2023-02-19T15:01:56.863854Z",
          "shell.execute_reply": "2023-02-19T15:32:42.660165Z"
        },
        "trusted": true,
        "id": "GBWmWovISADq"
      },
      "execution_count": null,
      "outputs": []
    },
    {
      "cell_type": "code",
      "source": [
        "result= model.evaluate(X_test,Y_test,batch_size=10)\n",
        "print(\"Accuracy is\\n\",result)\n",
        "\n",
        ""
      ],
      "metadata": {
        "execution": {
          "iopub.status.busy": "2023-02-19T15:32:42.663584Z",
          "iopub.execute_input": "2023-02-19T15:32:42.664006Z",
          "iopub.status.idle": "2023-02-19T15:32:43.862388Z",
          "shell.execute_reply.started": "2023-02-19T15:32:42.663968Z",
          "shell.execute_reply": "2023-02-19T15:32:43.861355Z"
        },
        "trusted": true,
        "id": "Y56yox5gSADq"
      },
      "execution_count": null,
      "outputs": []
    },
    {
      "cell_type": "markdown",
      "source": [
        "# history for accuracy"
      ],
      "metadata": {
        "id": "5wAJZSxTSADq"
      }
    },
    {
      "cell_type": "code",
      "source": [
        "\n",
        "plt.plot(history.history['accuracy'])\n",
        "plt.plot(history.history['val_accuracy'])\n",
        "plt.title('model accuracy')\n",
        "plt.ylabel('accuracy')\n",
        "plt.xlabel('epoch')\n",
        "plt.legend(['train', 'test'], loc='upper left')\n",
        "plt.show()"
      ],
      "metadata": {
        "execution": {
          "iopub.status.busy": "2023-02-19T15:32:43.863966Z",
          "iopub.execute_input": "2023-02-19T15:32:43.864806Z",
          "iopub.status.idle": "2023-02-19T15:32:44.094637Z",
          "shell.execute_reply.started": "2023-02-19T15:32:43.864769Z",
          "shell.execute_reply": "2023-02-19T15:32:44.093721Z"
        },
        "trusted": true,
        "id": "AB2BlH4cSADr"
      },
      "execution_count": null,
      "outputs": []
    },
    {
      "cell_type": "markdown",
      "source": [
        " # history for loss"
      ],
      "metadata": {
        "id": "Bku3PZEASADr"
      }
    },
    {
      "cell_type": "code",
      "source": [
        "\n",
        "plt.plot(history.history['loss'])\n",
        "plt.plot(history.history['val_loss'])\n",
        "plt.title('model loss')\n",
        "plt.ylabel('loss')\n",
        "plt.xlabel('epoch')\n",
        "plt.legend(['train', 'test'], loc='upper left')\n",
        "plt.show()"
      ],
      "metadata": {
        "execution": {
          "iopub.status.busy": "2023-02-19T15:32:44.095974Z",
          "iopub.execute_input": "2023-02-19T15:32:44.096415Z",
          "iopub.status.idle": "2023-02-19T15:32:44.303275Z",
          "shell.execute_reply.started": "2023-02-19T15:32:44.096378Z",
          "shell.execute_reply": "2023-02-19T15:32:44.302161Z"
        },
        "trusted": true,
        "id": "Py8WGO4iSADr"
      },
      "execution_count": null,
      "outputs": []
    },
    {
      "cell_type": "code",
      "source": [
        "# %load_ext tensorboard"
      ],
      "metadata": {
        "execution": {
          "iopub.status.busy": "2023-02-19T15:32:44.304559Z",
          "iopub.execute_input": "2023-02-19T15:32:44.306009Z",
          "iopub.status.idle": "2023-02-19T15:32:44.310346Z",
          "shell.execute_reply.started": "2023-02-19T15:32:44.30597Z",
          "shell.execute_reply": "2023-02-19T15:32:44.309347Z"
        },
        "trusted": true,
        "id": "aSwFYNGzSADr"
      },
      "execution_count": null,
      "outputs": []
    },
    {
      "cell_type": "code",
      "source": [
        "#  %reload_ext tensorboard"
      ],
      "metadata": {
        "execution": {
          "iopub.status.busy": "2023-02-19T15:32:44.311913Z",
          "iopub.execute_input": "2023-02-19T15:32:44.31227Z",
          "iopub.status.idle": "2023-02-19T15:32:44.322444Z",
          "shell.execute_reply.started": "2023-02-19T15:32:44.312235Z",
          "shell.execute_reply": "2023-02-19T15:32:44.321401Z"
        },
        "trusted": true,
        "id": "NJQnMYP8SADr"
      },
      "execution_count": null,
      "outputs": []
    },
    {
      "cell_type": "code",
      "source": [
        "# %tensorboard --logdir logs/fit"
      ],
      "metadata": {
        "execution": {
          "iopub.status.busy": "2023-02-19T15:32:44.323849Z",
          "iopub.execute_input": "2023-02-19T15:32:44.324216Z",
          "iopub.status.idle": "2023-02-19T15:32:44.332704Z",
          "shell.execute_reply.started": "2023-02-19T15:32:44.324179Z",
          "shell.execute_reply": "2023-02-19T15:32:44.331846Z"
        },
        "trusted": true,
        "id": "lVGUufneSADr"
      },
      "execution_count": null,
      "outputs": []
    },
    {
      "cell_type": "markdown",
      "source": [
        "# Model Prediction"
      ],
      "metadata": {
        "id": "676PTwn_SADr"
      }
    },
    {
      "cell_type": "code",
      "source": [
        "prediction=model.predict(X_test)\n",
        "\n",
        "pred_label=np.argmax(prediction,axis=1)\n",
        "\n",
        "y_pred=np.argmax(Y_test,axis=1)\n",
        "\n"
      ],
      "metadata": {
        "execution": {
          "iopub.status.busy": "2023-02-19T15:32:44.334143Z",
          "iopub.execute_input": "2023-02-19T15:32:44.334496Z",
          "iopub.status.idle": "2023-02-19T15:32:49.246048Z",
          "shell.execute_reply.started": "2023-02-19T15:32:44.334461Z",
          "shell.execute_reply": "2023-02-19T15:32:49.245013Z"
        },
        "trusted": true,
        "id": "BV1HMlK_SADr"
      },
      "execution_count": null,
      "outputs": []
    },
    {
      "cell_type": "markdown",
      "source": [
        "# Confusion Matrix"
      ],
      "metadata": {
        "id": "L6ZFnNtQSADs"
      }
    },
    {
      "cell_type": "code",
      "source": [
        "cm = confusion_matrix(y_pred,pred_label)\n",
        "sns.heatmap(cm,  annot=True, fmt=\"d\" ,cmap=\"Oranges\",xticklabels=label_name,yticklabels=label_name)\n",
        "plt.title(\"Confusion_matrix\\n\")\n",
        "plt.ylabel('Actual')\n",
        "plt.xlabel('Predicted')\n",
        "plt.show()"
      ],
      "metadata": {
        "execution": {
          "iopub.status.busy": "2023-02-19T15:32:49.247533Z",
          "iopub.execute_input": "2023-02-19T15:32:49.247928Z",
          "iopub.status.idle": "2023-02-19T15:32:49.541559Z",
          "shell.execute_reply.started": "2023-02-19T15:32:49.247888Z",
          "shell.execute_reply": "2023-02-19T15:32:49.540668Z"
        },
        "trusted": true,
        "id": "qiq3OttdSADs"
      },
      "execution_count": null,
      "outputs": []
    },
    {
      "cell_type": "markdown",
      "source": [
        "# Classification Report"
      ],
      "metadata": {
        "id": "xR4u0tpqSADs"
      }
    },
    {
      "cell_type": "code",
      "source": [
        "print(classification_report(y_pred, pred_label,target_names=[\"Final AD JPEG\" , \"Final CN JPEG\",  \"Final EMCI JPEG\",\"Final LMCI JPEG\",\"Final MCI JPEG\"]))"
      ],
      "metadata": {
        "execution": {
          "iopub.status.busy": "2023-02-19T15:32:49.543001Z",
          "iopub.execute_input": "2023-02-19T15:32:49.543346Z",
          "iopub.status.idle": "2023-02-19T15:32:49.555271Z",
          "shell.execute_reply.started": "2023-02-19T15:32:49.54331Z",
          "shell.execute_reply": "2023-02-19T15:32:49.554274Z"
        },
        "trusted": true,
        "id": "RvBcxieuSADs"
      },
      "execution_count": null,
      "outputs": []
    },
    {
      "cell_type": "markdown",
      "source": [
        "# Data Prediction"
      ],
      "metadata": {
        "id": "e58vh6ewSADs"
      }
    },
    {
      "cell_type": "code",
      "source": [
        "def image_prediction(upload):\n",
        "    for name, fileinfo in uploader.value.items():\n",
        "        image_file=Image.open(io.BytesIO(fileinfo[\"content\"]))\n",
        "    predict_image=cv2.cvtColor(np.array(image_file),cv2.COLOR_RGB2BGR)\n",
        "    predict_image=cv2.resize(predict_image,(150,150))\n",
        "    predict_image=predict_image.reshape(1,150,150,3)\n",
        "    predict_image=model.predict(predict_image)\n",
        "    predict_image=np.argmax(predict_image,axis=1)[0]\n",
        "\n",
        "    if predict_image==0:\n",
        "        predict_image=\"Final AD JPEG\"\n",
        "    elif predict_image==1:\n",
        "        predict_image=\"Final CN JPEG\"\n",
        "    elif predict_image==2:\n",
        "        predict_image=\"Final EMCI JPEG\"\n",
        "    elif predict_image==3:\n",
        "        predict_image=\"Final LMCI JPEG\"\n",
        "    elif predict_image==4:\n",
        "        predict_image=\"Final MCI JPEG\"\n",
        "\n",
        "    if predict_image !=1:\n",
        "        print(f\"Model prediction is  {predict_image}\")\n",
        "\n"
      ],
      "metadata": {
        "execution": {
          "iopub.status.busy": "2023-02-19T15:32:49.557058Z",
          "iopub.execute_input": "2023-02-19T15:32:49.557649Z",
          "iopub.status.idle": "2023-02-19T15:32:49.56567Z",
          "shell.execute_reply.started": "2023-02-19T15:32:49.557611Z",
          "shell.execute_reply": "2023-02-19T15:32:49.564706Z"
        },
        "trusted": true,
        "id": "G046L9T9SADs"
      },
      "execution_count": null,
      "outputs": []
    },
    {
      "cell_type": "markdown",
      "source": [
        "# Upload Data For Prediction"
      ],
      "metadata": {
        "id": "3e_g7hdnSADs"
      }
    },
    {
      "cell_type": "code",
      "source": [
        "uploader=widgets.FileUpload()\n",
        "display(uploader)"
      ],
      "metadata": {
        "execution": {
          "iopub.status.busy": "2023-02-19T15:32:49.567248Z",
          "iopub.execute_input": "2023-02-19T15:32:49.567591Z",
          "iopub.status.idle": "2023-02-19T15:32:49.588279Z",
          "shell.execute_reply.started": "2023-02-19T15:32:49.567557Z",
          "shell.execute_reply": "2023-02-19T15:32:49.587138Z"
        },
        "trusted": true,
        "id": "kSNOJYUfSADx"
      },
      "execution_count": null,
      "outputs": []
    },
    {
      "cell_type": "code",
      "source": [
        "button=widgets.Button(description=\"Predict\")\n",
        "out_put=widgets.Output()\n",
        "\n",
        "def button_click(_):\n",
        "    with out_put:\n",
        "        clear_output()\n",
        "        try:\n",
        "            image_prediction(uploader)\n",
        "        except:\n",
        "            print(\"Enter Correct Image File\")\n",
        "\n",
        "button.on_click(button_click)\n",
        "widgets.VBox([button,out_put])"
      ],
      "metadata": {
        "execution": {
          "iopub.status.busy": "2023-02-19T15:32:49.593345Z",
          "iopub.execute_input": "2023-02-19T15:32:49.593605Z",
          "iopub.status.idle": "2023-02-19T15:32:49.616169Z",
          "shell.execute_reply.started": "2023-02-19T15:32:49.59358Z",
          "shell.execute_reply": "2023-02-19T15:32:49.615026Z"
        },
        "trusted": true,
        "id": "WT3c4kpXSADx"
      },
      "execution_count": null,
      "outputs": []
    },
    {
      "cell_type": "code",
      "source": [],
      "metadata": {
        "trusted": true,
        "id": "uFgz5JqDSADx"
      },
      "execution_count": null,
      "outputs": []
    },
    {
      "cell_type": "code",
      "source": [],
      "metadata": {
        "trusted": true,
        "id": "D5Mt36pVSADx"
      },
      "execution_count": null,
      "outputs": []
    },
    {
      "cell_type": "code",
      "source": [],
      "metadata": {
        "id": "DoJo1eagSADx"
      },
      "execution_count": null,
      "outputs": []
    },
    {
      "cell_type": "code",
      "source": [],
      "metadata": {
        "id": "bnFtSKEkSADx"
      },
      "execution_count": null,
      "outputs": []
    },
    {
      "cell_type": "code",
      "source": [],
      "metadata": {
        "id": "NBvojeQBSADx"
      },
      "execution_count": null,
      "outputs": []
    },
    {
      "cell_type": "code",
      "source": [],
      "metadata": {
        "id": "ZJn3DLOeSADx"
      },
      "execution_count": null,
      "outputs": []
    },
    {
      "cell_type": "code",
      "source": [],
      "metadata": {
        "id": "1BmnVxzzSADx"
      },
      "execution_count": null,
      "outputs": []
    },
    {
      "cell_type": "code",
      "source": [],
      "metadata": {
        "id": "56FkXip5SADx"
      },
      "execution_count": null,
      "outputs": []
    },
    {
      "cell_type": "code",
      "source": [],
      "metadata": {
        "id": "3YeYVx7oSADy"
      },
      "execution_count": null,
      "outputs": []
    },
    {
      "cell_type": "code",
      "source": [],
      "metadata": {
        "id": "vgqax7GBSADy"
      },
      "execution_count": null,
      "outputs": []
    },
    {
      "cell_type": "code",
      "source": [],
      "metadata": {
        "id": "5g58z5NBSADy"
      },
      "execution_count": null,
      "outputs": []
    },
    {
      "cell_type": "code",
      "source": [],
      "metadata": {
        "id": "IVUGJLYJSADy"
      },
      "execution_count": null,
      "outputs": []
    },
    {
      "cell_type": "code",
      "source": [],
      "metadata": {
        "id": "t-aEBt5zSADy"
      },
      "execution_count": null,
      "outputs": []
    },
    {
      "cell_type": "code",
      "source": [],
      "metadata": {
        "id": "FoExrlPzSADy"
      },
      "execution_count": null,
      "outputs": []
    },
    {
      "cell_type": "code",
      "source": [],
      "metadata": {
        "id": "pB8hryN3SADy"
      },
      "execution_count": null,
      "outputs": []
    },
    {
      "cell_type": "code",
      "source": [],
      "metadata": {
        "id": "ijfWeBnJSADy"
      },
      "execution_count": null,
      "outputs": []
    },
    {
      "cell_type": "code",
      "source": [],
      "metadata": {
        "id": "NeulTSRhSADy"
      },
      "execution_count": null,
      "outputs": []
    },
    {
      "cell_type": "code",
      "source": [],
      "metadata": {
        "id": "nGfNNA2WSADy"
      },
      "execution_count": null,
      "outputs": []
    }
  ]
}